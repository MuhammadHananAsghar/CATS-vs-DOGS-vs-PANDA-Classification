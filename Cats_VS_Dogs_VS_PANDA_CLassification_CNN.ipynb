{
  "nbformat": 4,
  "nbformat_minor": 0,
  "metadata": {
    "colab": {
      "name": "Cats VS Dogs VS PANDA CLassification CNN.ipynb",
      "provenance": [],
      "collapsed_sections": []
    },
    "kernelspec": {
      "name": "python3",
      "display_name": "Python 3"
    },
    "accelerator": "GPU"
  },
  "cells": [
    {
      "cell_type": "markdown",
      "metadata": {
        "id": "9nG3eh3thSmE"
      },
      "source": [
        "#**Collecting Data**"
      ]
    },
    {
      "cell_type": "code",
      "metadata": {
        "colab": {
          "base_uri": "https://localhost:8080/"
        },
        "id": "WrF6fePICzf3",
        "outputId": "b2b77f53-fd96-432a-f25b-fd1edd6d061b"
      },
      "source": [
        "from google.colab import drive\n",
        "drive.mount('/content/drive')"
      ],
      "execution_count": 8,
      "outputs": [
        {
          "output_type": "stream",
          "text": [
            "Drive already mounted at /content/drive; to attempt to forcibly remount, call drive.mount(\"/content/drive\", force_remount=True).\n"
          ],
          "name": "stdout"
        }
      ]
    },
    {
      "cell_type": "code",
      "metadata": {
        "id": "R-3aDVhECrrq"
      },
      "source": [
        "import os\n",
        "os.environ['KERAS_BACKEND'] = 'tensorflow'"
      ],
      "execution_count": 8,
      "outputs": []
    },
    {
      "cell_type": "code",
      "metadata": {
        "id": "1XoX4q-vdqFW"
      },
      "source": [
        "import os\n",
        "os.environ['KAGGLE_CONFIG_DIR'] = \"/content\""
      ],
      "execution_count": 9,
      "outputs": []
    },
    {
      "cell_type": "code",
      "metadata": {
        "colab": {
          "base_uri": "https://localhost:8080/"
        },
        "id": "3o-SoEQoeSup",
        "outputId": "98476b7b-ac2b-438b-8853-dd777e6ecd13"
      },
      "source": [
        "!kaggle datasets download -d ashishsaxena2209/animal-image-datasetdog-cat-and-panda"
      ],
      "execution_count": 12,
      "outputs": [
        {
          "output_type": "stream",
          "text": [
            "Warning: Your Kaggle API key is readable by other users on this system! To fix this, you can run 'chmod 600 /content/kaggle.json'\n",
            "Downloading animal-image-datasetdog-cat-and-panda.zip to /content\n",
            " 94% 353M/376M [00:06<00:00, 47.0MB/s]\n",
            "100% 376M/376M [00:06<00:00, 61.7MB/s]\n"
          ],
          "name": "stdout"
        }
      ]
    },
    {
      "cell_type": "code",
      "metadata": {
        "id": "I2kaNDqreWJ9"
      },
      "source": [
        "# !cp -v -r \"/content/animal-image-datasetdog-cat-and-panda.zip\" \"/content/drive/MyDrive\""
      ],
      "execution_count": 14,
      "outputs": []
    },
    {
      "cell_type": "code",
      "metadata": {
        "id": "kg-u92V-eg15"
      },
      "source": [
        "!unzip \\*.zip  && rm *.zip"
      ],
      "execution_count": null,
      "outputs": []
    },
    {
      "cell_type": "code",
      "metadata": {
        "colab": {
          "base_uri": "https://localhost:8080/"
        },
        "id": "aEO1HM5weq8_",
        "outputId": "cbb52858-47c7-4cb2-c804-0b2b4cae29bd"
      },
      "source": [
        "print(\"No of Panda Images:\",len(os.listdir(\"/content/animals/animals/panda\")))\n",
        "print(\"No of Cat Images:\",len(os.listdir(\"/content/animals/animals/cats\")))\n",
        "print(\"No of Dog Images:\",len(os.listdir(\"/content/animals/animals/dogs\")))"
      ],
      "execution_count": 10,
      "outputs": [
        {
          "output_type": "stream",
          "text": [
            "No of Panda Images: 1000\n",
            "No of Cat Images: 1000\n",
            "No of Dog Images: 1000\n"
          ],
          "name": "stdout"
        }
      ]
    },
    {
      "cell_type": "markdown",
      "metadata": {
        "id": "Li9iktFuEU0L"
      },
      "source": [
        "#**Preprocessing Data**"
      ]
    },
    {
      "cell_type": "code",
      "metadata": {
        "colab": {
          "base_uri": "https://localhost:8080/"
        },
        "id": "FVFUZUX0gOOy",
        "outputId": "bd574726-c11d-495a-fca5-fad536f1af1d"
      },
      "source": [
        "!rm -rf \"/content/animals/images/.ipynb_checkpoints\"\n",
        "os.listdir(\"/content/animals/images\")"
      ],
      "execution_count": 44,
      "outputs": [
        {
          "output_type": "execute_result",
          "data": {
            "text/plain": [
              "['dogs', 'cats', 'panda']"
            ]
          },
          "metadata": {
            "tags": []
          },
          "execution_count": 44
        }
      ]
    },
    {
      "cell_type": "code",
      "metadata": {
        "colab": {
          "base_uri": "https://localhost:8080/"
        },
        "id": "0UtRNtx0gcp4",
        "outputId": "74d6ae89-fad6-4f46-a051-f3edaeb266b6"
      },
      "source": [
        "import cv2\n",
        "\n",
        "image = cv2.imread(\"/content/animals/animals/cats/cats_00001.jpg\")\n",
        "print(image.shape)"
      ],
      "execution_count": 23,
      "outputs": [
        {
          "output_type": "stream",
          "text": [
            "(374, 500, 3)\n"
          ],
          "name": "stdout"
        }
      ]
    },
    {
      "cell_type": "markdown",
      "metadata": {
        "id": "b8yZuUydhWSC"
      },
      "source": [
        "#**Designing CNN**"
      ]
    },
    {
      "cell_type": "code",
      "metadata": {
        "id": "opxhYVEf3MfK"
      },
      "source": [
        "from keras.applications.vgg16 import VGG16\n",
        "\n",
        "img_rows, img_cols = 224, 224\n",
        "\n",
        "model = VGG16(weights='imagenet',\n",
        "              include_top=False,\n",
        "              input_shape = (img_rows, img_cols, 3))"
      ],
      "execution_count": 45,
      "outputs": []
    },
    {
      "cell_type": "code",
      "metadata": {
        "id": "OByj_fMg_RWI"
      },
      "source": [
        "for layer in model.layers:\n",
        "  layer.trainable = False"
      ],
      "execution_count": 46,
      "outputs": []
    },
    {
      "cell_type": "code",
      "metadata": {
        "colab": {
          "base_uri": "https://localhost:8080/"
        },
        "id": "mDj2GbNd_S0w",
        "outputId": "a7d602b3-a4bc-4a7a-ee0f-b2bcffaebdfc"
      },
      "source": [
        "# view the structure of the model\n",
        "model.summary()"
      ],
      "execution_count": 47,
      "outputs": [
        {
          "output_type": "stream",
          "text": [
            "Model: \"vgg16\"\n",
            "_________________________________________________________________\n",
            "Layer (type)                 Output Shape              Param #   \n",
            "=================================================================\n",
            "input_3 (InputLayer)         [(None, 224, 224, 3)]     0         \n",
            "_________________________________________________________________\n",
            "block1_conv1 (Conv2D)        (None, 224, 224, 64)      1792      \n",
            "_________________________________________________________________\n",
            "block1_conv2 (Conv2D)        (None, 224, 224, 64)      36928     \n",
            "_________________________________________________________________\n",
            "block1_pool (MaxPooling2D)   (None, 112, 112, 64)      0         \n",
            "_________________________________________________________________\n",
            "block2_conv1 (Conv2D)        (None, 112, 112, 128)     73856     \n",
            "_________________________________________________________________\n",
            "block2_conv2 (Conv2D)        (None, 112, 112, 128)     147584    \n",
            "_________________________________________________________________\n",
            "block2_pool (MaxPooling2D)   (None, 56, 56, 128)       0         \n",
            "_________________________________________________________________\n",
            "block3_conv1 (Conv2D)        (None, 56, 56, 256)       295168    \n",
            "_________________________________________________________________\n",
            "block3_conv2 (Conv2D)        (None, 56, 56, 256)       590080    \n",
            "_________________________________________________________________\n",
            "block3_conv3 (Conv2D)        (None, 56, 56, 256)       590080    \n",
            "_________________________________________________________________\n",
            "block3_pool (MaxPooling2D)   (None, 28, 28, 256)       0         \n",
            "_________________________________________________________________\n",
            "block4_conv1 (Conv2D)        (None, 28, 28, 512)       1180160   \n",
            "_________________________________________________________________\n",
            "block4_conv2 (Conv2D)        (None, 28, 28, 512)       2359808   \n",
            "_________________________________________________________________\n",
            "block4_conv3 (Conv2D)        (None, 28, 28, 512)       2359808   \n",
            "_________________________________________________________________\n",
            "block4_pool (MaxPooling2D)   (None, 14, 14, 512)       0         \n",
            "_________________________________________________________________\n",
            "block5_conv1 (Conv2D)        (None, 14, 14, 512)       2359808   \n",
            "_________________________________________________________________\n",
            "block5_conv2 (Conv2D)        (None, 14, 14, 512)       2359808   \n",
            "_________________________________________________________________\n",
            "block5_conv3 (Conv2D)        (None, 14, 14, 512)       2359808   \n",
            "_________________________________________________________________\n",
            "block5_pool (MaxPooling2D)   (None, 7, 7, 512)         0         \n",
            "=================================================================\n",
            "Total params: 14,714,688\n",
            "Trainable params: 0\n",
            "Non-trainable params: 14,714,688\n",
            "_________________________________________________________________\n"
          ],
          "name": "stdout"
        }
      ]
    },
    {
      "cell_type": "code",
      "metadata": {
        "id": "D4-ErzOS_UMC"
      },
      "source": [
        "def layer_adder(bottom_model, num_classes):\n",
        "  top_model = bottom_model.output\n",
        "  top_model = GlobalAveragePooling2D()(top_model)\n",
        "  top_model = Dense(1024, activation='relu')(top_model)\n",
        "  top_model = Dense(512, activation='relu')(top_model)\n",
        "  top_model = Dense(num_classes, activation='softmax')(top_model)\n",
        "  return top_model"
      ],
      "execution_count": 48,
      "outputs": []
    },
    {
      "cell_type": "code",
      "metadata": {
        "colab": {
          "base_uri": "https://localhost:8080/"
        },
        "id": "z452O3iq_gUS",
        "outputId": "e4a51f43-84b4-41ce-ed87-39fcdf4f15d9"
      },
      "source": [
        "from keras.models import Sequential\n",
        "from keras.layers import Dense, Flatten, GlobalAveragePooling2D, Activation, Dropout\n",
        "from keras.layers import Conv2D, MaxPool2D, ZeroPadding2D, Input\n",
        "from keras.layers.normalization import BatchNormalization\n",
        "from keras.models import Model\n",
        "\n",
        "\n",
        "num_classes = 3\n",
        "\n",
        "FC_Head = layer_adder(model, num_classes)\n",
        "model = Model(inputs = model.input, outputs = FC_Head)\n",
        "\n",
        "print(model.summary())"
      ],
      "execution_count": 49,
      "outputs": [
        {
          "output_type": "stream",
          "text": [
            "Model: \"model_2\"\n",
            "_________________________________________________________________\n",
            "Layer (type)                 Output Shape              Param #   \n",
            "=================================================================\n",
            "input_3 (InputLayer)         [(None, 224, 224, 3)]     0         \n",
            "_________________________________________________________________\n",
            "block1_conv1 (Conv2D)        (None, 224, 224, 64)      1792      \n",
            "_________________________________________________________________\n",
            "block1_conv2 (Conv2D)        (None, 224, 224, 64)      36928     \n",
            "_________________________________________________________________\n",
            "block1_pool (MaxPooling2D)   (None, 112, 112, 64)      0         \n",
            "_________________________________________________________________\n",
            "block2_conv1 (Conv2D)        (None, 112, 112, 128)     73856     \n",
            "_________________________________________________________________\n",
            "block2_conv2 (Conv2D)        (None, 112, 112, 128)     147584    \n",
            "_________________________________________________________________\n",
            "block2_pool (MaxPooling2D)   (None, 56, 56, 128)       0         \n",
            "_________________________________________________________________\n",
            "block3_conv1 (Conv2D)        (None, 56, 56, 256)       295168    \n",
            "_________________________________________________________________\n",
            "block3_conv2 (Conv2D)        (None, 56, 56, 256)       590080    \n",
            "_________________________________________________________________\n",
            "block3_conv3 (Conv2D)        (None, 56, 56, 256)       590080    \n",
            "_________________________________________________________________\n",
            "block3_pool (MaxPooling2D)   (None, 28, 28, 256)       0         \n",
            "_________________________________________________________________\n",
            "block4_conv1 (Conv2D)        (None, 28, 28, 512)       1180160   \n",
            "_________________________________________________________________\n",
            "block4_conv2 (Conv2D)        (None, 28, 28, 512)       2359808   \n",
            "_________________________________________________________________\n",
            "block4_conv3 (Conv2D)        (None, 28, 28, 512)       2359808   \n",
            "_________________________________________________________________\n",
            "block4_pool (MaxPooling2D)   (None, 14, 14, 512)       0         \n",
            "_________________________________________________________________\n",
            "block5_conv1 (Conv2D)        (None, 14, 14, 512)       2359808   \n",
            "_________________________________________________________________\n",
            "block5_conv2 (Conv2D)        (None, 14, 14, 512)       2359808   \n",
            "_________________________________________________________________\n",
            "block5_conv3 (Conv2D)        (None, 14, 14, 512)       2359808   \n",
            "_________________________________________________________________\n",
            "block5_pool (MaxPooling2D)   (None, 7, 7, 512)         0         \n",
            "_________________________________________________________________\n",
            "global_average_pooling2d_2 ( (None, 512)               0         \n",
            "_________________________________________________________________\n",
            "dense_7 (Dense)              (None, 1024)              525312    \n",
            "_________________________________________________________________\n",
            "dense_8 (Dense)              (None, 512)               524800    \n",
            "_________________________________________________________________\n",
            "dense_9 (Dense)              (None, 3)                 1539      \n",
            "=================================================================\n",
            "Total params: 15,766,339\n",
            "Trainable params: 1,051,651\n",
            "Non-trainable params: 14,714,688\n",
            "_________________________________________________________________\n",
            "None\n"
          ],
          "name": "stdout"
        }
      ]
    },
    {
      "cell_type": "code",
      "metadata": {
        "colab": {
          "base_uri": "https://localhost:8080/"
        },
        "id": "QZ1Bj6-mAzX_",
        "outputId": "9ec5c664-4cd1-4bcf-943d-565ae5d86415"
      },
      "source": [
        "from tensorflow.keras.preprocessing.image import ImageDataGenerator\n",
        "\n",
        "\n",
        "training_datagen = ImageDataGenerator(\n",
        "    rescale = 1./255,\n",
        "    horizontal_flip=True,\n",
        "    rotation_range=90,\n",
        "    vertical_flip=True,\n",
        "    brightness_range=[0.2,1.0],\n",
        "    zoom_range=[0.5,1.0]\n",
        ")\n",
        "\n",
        "validation_datagen = ImageDataGenerator(rescale=1./255)\n",
        "\n",
        "\n",
        "train_generator = training_datagen.flow_from_directory(\n",
        "      \"/content/animals/animals\",  \n",
        "      target_size=(224, 224), \n",
        "      batch_size=32,\n",
        "      shuffle=True,\n",
        "      class_mode='categorical')\n",
        "\n",
        "\n",
        "val_generator = validation_datagen.flow_from_directory(\n",
        "      \"/content/animals/images\",  \n",
        "      target_size=(224, 224),\n",
        "      batch_size=32,\n",
        "      shuffle=True,\n",
        "      class_mode='categorical')"
      ],
      "execution_count": 50,
      "outputs": [
        {
          "output_type": "stream",
          "text": [
            "Found 3000 images belonging to 3 classes.\n",
            "Found 3000 images belonging to 3 classes.\n"
          ],
          "name": "stdout"
        }
      ]
    },
    {
      "cell_type": "code",
      "metadata": {
        "id": "6hGFQzns_i4A"
      },
      "source": [
        "from keras.optimizers import Adam\n",
        "from keras.callbacks import ModelCheckpoint, EarlyStopping\n",
        "\n",
        "\n",
        "checkpoint = ModelCheckpoint(\"model.h5\",\n",
        "                             monitor=\"val_loss\",\n",
        "                             mode=\"min\",\n",
        "                             save_best_only=True,\n",
        "                             verbose = 1)\n",
        "\n",
        "earlystop = EarlyStopping(monitor=\"val_loss\",\n",
        "                         min_delta=0,\n",
        "                         patience=3,\n",
        "                         verbose=1,\n",
        "                         restore_best_weights=True)\n",
        "\n",
        "callbacks = [earlystop, checkpoint]\n",
        "\n",
        "model.compile(loss=\"categorical_crossentropy\",\n",
        "              optimizer='Adam',\n",
        "              metrics=['accuracy'])"
      ],
      "execution_count": 51,
      "outputs": []
    },
    {
      "cell_type": "code",
      "metadata": {
        "colab": {
          "base_uri": "https://localhost:8080/"
        },
        "id": "asinM069_pbu",
        "outputId": "6289fd68-d5ff-4402-b296-48b7c9975c4b"
      },
      "source": [
        "history = model.fit_generator(train_generator,\n",
        "                              epochs = 10,\n",
        "                              callbacks=callbacks,\n",
        "                              validation_data=val_generator)"
      ],
      "execution_count": 52,
      "outputs": [
        {
          "output_type": "stream",
          "text": [
            "/usr/local/lib/python3.6/dist-packages/tensorflow/python/keras/engine/training.py:1844: UserWarning: `Model.fit_generator` is deprecated and will be removed in a future version. Please use `Model.fit`, which supports generators.\n",
            "  warnings.warn('`Model.fit_generator` is deprecated and '\n"
          ],
          "name": "stderr"
        },
        {
          "output_type": "stream",
          "text": [
            "Epoch 1/10\n",
            "94/94 [==============================] - 58s 607ms/step - loss: 1.1031 - accuracy: 0.4165 - val_loss: 0.6932 - val_accuracy: 0.7000\n",
            "\n",
            "Epoch 00001: val_loss improved from inf to 0.69324, saving model to model.h5\n",
            "Epoch 2/10\n",
            "94/94 [==============================] - 57s 606ms/step - loss: 0.8096 - accuracy: 0.6210 - val_loss: 0.5092 - val_accuracy: 0.7733\n",
            "\n",
            "Epoch 00002: val_loss improved from 0.69324 to 0.50919, saving model to model.h5\n",
            "Epoch 3/10\n",
            "94/94 [==============================] - 57s 603ms/step - loss: 0.7303 - accuracy: 0.6616 - val_loss: 0.4153 - val_accuracy: 0.8350\n",
            "\n",
            "Epoch 00003: val_loss improved from 0.50919 to 0.41532, saving model to model.h5\n",
            "Epoch 4/10\n",
            "94/94 [==============================] - 56s 600ms/step - loss: 0.6747 - accuracy: 0.6936 - val_loss: 0.3834 - val_accuracy: 0.8480\n",
            "\n",
            "Epoch 00004: val_loss improved from 0.41532 to 0.38340, saving model to model.h5\n",
            "Epoch 5/10\n",
            "94/94 [==============================] - 57s 604ms/step - loss: 0.7148 - accuracy: 0.6745 - val_loss: 0.3731 - val_accuracy: 0.8500\n",
            "\n",
            "Epoch 00005: val_loss improved from 0.38340 to 0.37311, saving model to model.h5\n",
            "Epoch 6/10\n",
            "94/94 [==============================] - 56s 600ms/step - loss: 0.6315 - accuracy: 0.7157 - val_loss: 0.3839 - val_accuracy: 0.8390\n",
            "\n",
            "Epoch 00006: val_loss did not improve from 0.37311\n",
            "Epoch 7/10\n",
            "94/94 [==============================] - 56s 602ms/step - loss: 0.6182 - accuracy: 0.7324 - val_loss: 0.3656 - val_accuracy: 0.8573\n",
            "\n",
            "Epoch 00007: val_loss improved from 0.37311 to 0.36561, saving model to model.h5\n",
            "Epoch 8/10\n",
            "94/94 [==============================] - 57s 606ms/step - loss: 0.6001 - accuracy: 0.7391 - val_loss: 0.3411 - val_accuracy: 0.8600\n",
            "\n",
            "Epoch 00008: val_loss improved from 0.36561 to 0.34111, saving model to model.h5\n",
            "Epoch 9/10\n",
            "94/94 [==============================] - 58s 614ms/step - loss: 0.6618 - accuracy: 0.6862 - val_loss: 0.3828 - val_accuracy: 0.8367\n",
            "\n",
            "Epoch 00009: val_loss did not improve from 0.34111\n",
            "Epoch 10/10\n",
            "94/94 [==============================] - 58s 615ms/step - loss: 0.6447 - accuracy: 0.7224 - val_loss: 0.3458 - val_accuracy: 0.8690\n",
            "\n",
            "Epoch 00010: val_loss did not improve from 0.34111\n"
          ],
          "name": "stdout"
        }
      ]
    },
    {
      "cell_type": "code",
      "metadata": {
        "id": "45JXfAph_vst"
      },
      "source": [
        "import matplotlib.pyplot as plt"
      ],
      "execution_count": 53,
      "outputs": []
    },
    {
      "cell_type": "code",
      "metadata": {
        "colab": {
          "base_uri": "https://localhost:8080/",
          "height": 513
        },
        "id": "W67blFsMDP68",
        "outputId": "c9587ac0-7ec1-4358-a058-9eea86906d24"
      },
      "source": [
        "plt.plot(history.history['loss'], label='train loss')\n",
        "plt.plot(history.history['val_loss'], label='val loss')\n",
        "plt.legend()\n",
        "plt.show()\n",
        "\n",
        "# accuracies\n",
        "plt.plot(history.history['accuracy'], label='train acc')\n",
        "plt.plot(history.history['val_accuracy'], label='val acc')\n",
        "plt.legend()\n",
        "plt.show()"
      ],
      "execution_count": 54,
      "outputs": [
        {
          "output_type": "display_data",
          "data": {
            "image/png": "[encoded data removed]",
            "text/plain": [
              "<Figure size 432x288 with 1 Axes>"
            ]
          },
          "metadata": {
            "tags": [],
            "needs_background": "light"
          }
        },
        {
          "output_type": "display_data",
          "data": {
            "image/png": "[encoded data removed]",
            "text/plain": [
              "<Figure size 432x288 with 1 Axes>"
            ]
          },
          "metadata": {
            "tags": [],
            "needs_background": "light"
          }
        }
      ]
    },
    {
      "cell_type": "code",
      "metadata": {
        "id": "HXUdwOqMDRlw"
      },
      "source": [
        "from keras.models import load_model"
      ],
      "execution_count": 55,
      "outputs": []
    },
    {
      "cell_type": "code",
      "metadata": {
        "id": "4YzseSa2DYzS"
      },
      "source": [
        "cnn = load_model(\"/content/model.h5\")"
      ],
      "execution_count": 56,
      "outputs": []
    },
    {
      "cell_type": "code",
      "metadata": {
        "colab": {
          "base_uri": "https://localhost:8080/"
        },
        "id": "VKPbjlfIDdvx",
        "outputId": "c91f8b0e-cad6-46e5-b094-26b9ce87bcdc"
      },
      "source": [
        "train_generator.class_indices"
      ],
      "execution_count": 57,
      "outputs": [
        {
          "output_type": "execute_result",
          "data": {
            "text/plain": [
              "{'cats': 0, 'dogs': 1, 'panda': 2}"
            ]
          },
          "metadata": {
            "tags": []
          },
          "execution_count": 57
        }
      ]
    },
    {
      "cell_type": "code",
      "metadata": {
        "id": "VrJn6669Dg9B"
      },
      "source": [
        "import numpy as np\n",
        "from keras.preprocessing import image\n",
        "test_image = image.load_img(\"/content/ss-160826-twip-05_8cf6d4cb83758449fd400c7c3d71aa1f.fit-760w.jpg\", target_size=(224,224))\n",
        "\n",
        "\n",
        "test_image = image.img_to_array(test_image)\n",
        "test_image = np.expand_dims(test_image, axis = 0)\n",
        "result = cnn.predict(test_image)"
      ],
      "execution_count": 63,
      "outputs": []
    },
    {
      "cell_type": "code",
      "metadata": {
        "colab": {
          "base_uri": "https://localhost:8080/"
        },
        "id": "UgyDE-JQD2aJ",
        "outputId": "ce277cdd-a479-4fec-f53c-864639fc1390"
      },
      "source": [
        "result"
      ],
      "execution_count": 64,
      "outputs": [
        {
          "output_type": "execute_result",
          "data": {
            "text/plain": [
              "array([[0., 0., 1.]], dtype=float32)"
            ]
          },
          "metadata": {
            "tags": []
          },
          "execution_count": 64
        }
      ]
    },
    {
      "cell_type": "code",
      "metadata": {
        "id": "lKNm_8oFEBiN"
      },
      "source": [
        ""
      ],
      "execution_count": null,
      "outputs": []
    }
  ]
}